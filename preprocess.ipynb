{
 "cells": [
  {
   "cell_type": "markdown",
   "metadata": {},
   "source": [
    "# Code to resize the image."
   ]
  },
  {
   "cell_type": "code",
   "execution_count": null,
   "metadata": {},
   "outputs": [],
   "source": [
    "\n",
    "import cv2\n",
    "import glob\n",
    "import os\n",
    "import time\n",
    "\n",
    "\n",
    "input_folder = r'A:/TechieYan projects/AI/Brain-Tumour-Detection-using-CNN-main/brain_tumor_dataset/yes/'\n",
    "os.mkdir('resized_not_normal_images')\n",
    "\n",
    "i = 0\n",
    "\n",
    "for img in glob.glob(input_folder + \"*.*\"):\n",
    "    img = cv2.imread(img)\n",
    "    img_half = cv2.resize(img, (255, 255))\n",
    "    cv2.imwrite(\"resized_not_normal_images/images%i.jpg\" %i,img_half)   \n",
    "    i+=1\n",
    "    cv2.waitKey(30)\n",
    "cv2.destroyAllWindows()\n"
   ]
  },
  {
   "cell_type": "markdown",
   "metadata": {},
   "source": [
    "# Data Augmentation"
   ]
  },
  {
   "cell_type": "code",
   "execution_count": 8,
   "metadata": {},
   "outputs": [],
   "source": [
    "\n",
    "from keras.preprocessing.image import ImageDataGenerator, array_to_img, img_to_array, load_img"
   ]
  },
  {
   "cell_type": "code",
   "execution_count": 12,
   "metadata": {},
   "outputs": [],
   "source": [
    "\n",
    "datagen = ImageDataGenerator(rotation_range=40,width_shift_range=0.3,height_shift_range=0.3,\n",
    "shear_range=0.2,zoom_range=0.2,horizontal_flip=True,fill_mode='nearest')\n",
    "\n",
    "file_path = r'A:/TechieYan projects/AI/Brain-Tumour-Detection-using-CNN-main/resized_not_normal_images/'\n",
    "for image_path in glob.glob(file_path + \"/*.jpg\"):\n",
    "    img = load_img(image_path)\n",
    "    x = img_to_array(img)\n",
    "    x = x.reshape((1,) + x.shape)\n",
    "\n",
    "    i = 0\n",
    "    for batch in datagen.flow(x, batch_size=1, save_to_dir=r'A:/TechieYan projects/AI/Brain-Tumour-Detection-using-CNN-main/augmented_data/augmented_not_normal_data/', \n",
    "    save_prefix='image', save_format='jpg'):\n",
    "        i += 1\n",
    "        if i > 17:\n",
    "            break # otherwise the generator would loop indefinitely\n"
   ]
  },
  {
   "cell_type": "code",
   "execution_count": null,
   "metadata": {},
   "outputs": [],
   "source": []
  }
 ],
 "metadata": {
  "interpreter": {
   "hash": "80bc14a6df0c4942103d0618f3b06907407c921bdce606ff519c2e4f7269e47f"
  },
  "kernelspec": {
   "display_name": "Python 3.9.7 ('base')",
   "language": "python",
   "name": "python3"
  },
  "language_info": {
   "codemirror_mode": {
    "name": "ipython",
    "version": 3
   },
   "file_extension": ".py",
   "mimetype": "text/x-python",
   "name": "python",
   "nbconvert_exporter": "python",
   "pygments_lexer": "ipython3",
   "version": "3.9.7"
  },
  "orig_nbformat": 4
 },
 "nbformat": 4,
 "nbformat_minor": 2
}
